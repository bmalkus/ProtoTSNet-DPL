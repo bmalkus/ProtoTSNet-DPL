{
 "cells": [
  {
   "cell_type": "code",
   "execution_count": 1,
   "metadata": {},
   "outputs": [
    {
     "name": "stdout",
     "output_type": "stream",
     "text": [
      "/home/jovyan/fast/ProtoTSNetDPL\n"
     ]
    },
    {
     "name": "stderr",
     "output_type": "stream",
     "text": [
      "/home/jovyan/.conda/envs/dpl2/lib/python3.11/site-packages/IPython/core/magics/osm.py:393: UserWarning: This is now an optional IPython functionality, using bookmarks requires you to install the `pickleshare` library.\n",
      "  bkms = self.shell.db.get('bookmarks', {})\n"
     ]
    }
   ],
   "source": [
    "%cd ~/fast/ProtoTSNetDPL/"
   ]
  },
  {
   "cell_type": "code",
   "execution_count": 2,
   "metadata": {},
   "outputs": [],
   "source": [
    "from scipy import signal\n",
    "import numpy as np\n",
    "import torch\n",
    "import json\n",
    "\n",
    "from deepproblog.dataset import Dataset as DPLDataset, DataLoader\n",
    "from deepproblog.query import Query\n",
    "from deepproblog.network import Network\n",
    "from deepproblog.model import Model\n",
    "from deepproblog.engines import ExactEngine\n",
    "from deepproblog.train import train_model\n",
    "from deepproblog.evaluate import get_confusion_matrix, get_fact_accuracy\n",
    "from problog.logic import Term, Constant, list2term, Not\n",
    "\n",
    "from model import ProtoTSNet\n",
    "from autoencoder import RegularConvEncoder\n",
    "from artificial_datasets_DPL import ArtificialProtosDataset, ArtificialProtosDatasetRandomShift, Queries\n",
    "\n",
    "from matplotlib import pyplot as plt\n",
    "\n",
    "from pathlib import Path\n",
    "\n",
    "from datasets_utils import ds_load"
   ]
  },
  {
   "cell_type": "code",
   "execution_count": 3,
   "metadata": {},
   "outputs": [],
   "source": [
    "%load_ext autoreload\n",
    "%autoreload 2"
   ]
  },
  {
   "cell_type": "code",
   "execution_count": 4,
   "metadata": {},
   "outputs": [
    {
     "name": "stdout",
     "output_type": "stream",
     "text": [
      "env: CUDA_VISIBLE_DEVICES=0\n"
     ]
    }
   ],
   "source": [
    "%env CUDA_VISIBLE_DEVICES=0\n",
    "torch.cuda.set_per_process_memory_fraction(fraction=0.5, device=0)"
   ]
  },
  {
   "cell_type": "code",
   "execution_count": 64,
   "metadata": {},
   "outputs": [],
   "source": [
    "dataset = ArtificialProtosDatasetRandomShift(50, num_feat=2, classes=2, feature_noise_power=0)"
   ]
  },
  {
   "cell_type": "code",
   "execution_count": null,
   "metadata": {},
   "outputs": [],
   "source": [
    "for i in range(10):\n",
    "    idx = i\n",
    "    print(f'Label: {dataset.get_label(idx)}')\n",
    "    plt.plot(dataset[[idx]].T)\n",
    "    plt.show()"
   ]
  },
  {
   "cell_type": "code",
   "execution_count": 87,
   "metadata": {},
   "outputs": [],
   "source": [
    "test_dataset = ArtificialProtosDataset(50)\n",
    "test_queries = Queries(test_dataset, \"test\")"
   ]
  },
  {
   "cell_type": "code",
   "execution_count": 4,
   "metadata": {},
   "outputs": [
    {
     "name": "stdout",
     "output_type": "stream",
     "text": [
      "Detected number of classes in Queries: 15\n"
     ]
    }
   ],
   "source": [
    "libras = ds_load(Path('./datasets'), 'Libras')\n",
    "test_queries = Queries(libras.test, \"test\")"
   ]
  },
  {
   "cell_type": "code",
   "execution_count": 5,
   "metadata": {},
   "outputs": [
    {
     "name": "stdout",
     "output_type": "stream",
     "text": [
      "Preparing ProtoTSNet...\n",
      "Loading logic file...\n"
     ]
    }
   ],
   "source": [
    "protos_per_class = 1\n",
    "latent_features = 32\n",
    "num_features = 2\n",
    "ts_len = 45\n",
    "proto_len_latent = 5\n",
    "# num_features = 3\n",
    "num_classes = 15\n",
    "NOISE_POWER = 0.1\n",
    "\n",
    "print('Preparing ProtoTSNet...')\n",
    "autoencoder = RegularConvEncoder(num_features=num_features, latent_features=latent_features, padding='same')\n",
    "encoder = autoencoder.encoder\n",
    "net = ProtoTSNet(\n",
    "    cnn_base=encoder,\n",
    "    for_deepproblog=True,\n",
    "    num_features=num_features,\n",
    "    ts_sample_len=ts_len,\n",
    "    proto_num=protos_per_class*num_classes,\n",
    "    latent_features=latent_features,\n",
    "    proto_len_latent=proto_len_latent,\n",
    "    num_classes=num_classes,\n",
    ")\n",
    "\n",
    "dpl_net = Network(net, \"ptsnet\", batching=True)\n",
    "# dpl_net.cuda()\n",
    "\n",
    "print('Loading logic file...')\n",
    "model = Model(\"proto_logic.pl\", [dpl_net])\n",
    "model.set_engine(ExactEngine(model))"
   ]
  },
  {
   "cell_type": "code",
   "execution_count": 6,
   "metadata": {},
   "outputs": [],
   "source": [
    "model.load_state('./experiments/LibrasTrainableLogic/models/last-epoch.pth')\n",
    "model.eval()\n",
    "model.add_tensor_source(\"test\", libras.test)"
   ]
  },
  {
   "cell_type": "code",
   "execution_count": 20,
   "metadata": {},
   "outputs": [
    {
     "name": "stdout",
     "output_type": "stream",
     "text": [
      "(1.0::excl_is_class(ts0,c0), {ts0: tensor(test(0))})\n",
      "(1.0::excl_is_class(ts0,c0), {ts0: tensor(test(0))})\n"
     ]
    }
   ],
   "source": [
    "print(test_queries.to_query(0)[0])\n",
    "print(Query(Term('excl_is_class', Term('ts0'), Term('c0')), {Term('ts0'): Term('tensor', Term('test', Constant(0)))}))"
   ]
  },
  {
   "cell_type": "code",
   "execution_count": 8,
   "metadata": {},
   "outputs": [
    {
     "data": {
      "text/plain": [
       "np.True_"
      ]
     },
     "execution_count": 8,
     "metadata": {},
     "output_type": "execute_result"
    }
   ],
   "source": [
    "libras.test.get_label(50)"
   ]
  },
  {
   "cell_type": "code",
   "execution_count": 14,
   "metadata": {},
   "outputs": [
    {
     "name": "stdout",
     "output_type": "stream",
     "text": [
      "[{excl_is_class(tensor(test(50)),c0): tensor(0.6397, grad_fn=<AddBackward0>)}]\n",
      "[{excl_is_class(tensor(test(50)),c1): tensor(0.6454, grad_fn=<AddBackward0>)}]\n",
      "[{excl_is_class(tensor(test(50)),c2): tensor(0.6457, grad_fn=<AddBackward0>)}]\n",
      "[{excl_is_class(tensor(test(50)),c3): tensor(0.6458, grad_fn=<AddBackward0>)}]\n",
      "[{excl_is_class(tensor(test(50)),c4): tensor(0.6458, grad_fn=<AddBackward0>)}]\n",
      "[{excl_is_class(tensor(test(50)),c5): tensor(0.6458, grad_fn=<AddBackward0>)}]\n",
      "[{excl_is_class(tensor(test(50)),c6): tensor(0.6457, grad_fn=<AddBackward0>)}]\n",
      "[{excl_is_class(tensor(test(50)),c7): tensor(0.6457, grad_fn=<AddBackward0>)}]\n",
      "[{excl_is_class(tensor(test(50)),c8): tensor(0.6458, grad_fn=<AddBackward0>)}]\n",
      "[{excl_is_class(tensor(test(50)),c9): tensor(0.6457, grad_fn=<AddBackward0>)}]\n",
      "[{excl_is_class(tensor(test(50)),c10): tensor(0.6458, grad_fn=<AddBackward0>)}]\n",
      "[{excl_is_class(tensor(test(50)),c11): tensor(0.6457, grad_fn=<AddBackward0>)}]\n",
      "[{excl_is_class(tensor(test(50)),c12): tensor(0.6457, grad_fn=<AddBackward0>)}]\n",
      "[{excl_is_class(tensor(test(50)),c13): tensor(0.6457, grad_fn=<AddBackward0>)}]\n",
      "[{excl_is_class(tensor(test(50)),c14): tensor(0.6458, grad_fn=<AddBackward0>)}]\n",
      "\n",
      "[{is_class(tensor(test(50)),c0): tensor(0.7095, grad_fn=<MulBackward0>)}]\n",
      "[{is_class(tensor(test(50)),c1): tensor(0.0590, grad_fn=<MulBackward0>)}]\n",
      "[{is_class(tensor(test(50)),c2): tensor(0.0032, grad_fn=<MulBackward0>)}]\n",
      "[{is_class(tensor(test(50)),c3): tensor(0.0034, grad_fn=<MulBackward0>)}]\n",
      "[{is_class(tensor(test(50)),c4): tensor(0.0031, grad_fn=<MulBackward0>)}]\n",
      "[{is_class(tensor(test(50)),c5): tensor(0.0031, grad_fn=<MulBackward0>)}]\n",
      "[{is_class(tensor(test(50)),c6): tensor(0.0031, grad_fn=<MulBackward0>)}]\n",
      "[{is_class(tensor(test(50)),c7): tensor(0.0036, grad_fn=<MulBackward0>)}]\n",
      "[{is_class(tensor(test(50)),c8): tensor(0.0032, grad_fn=<MulBackward0>)}]\n",
      "[{is_class(tensor(test(50)),c9): tensor(0.0034, grad_fn=<MulBackward0>)}]\n",
      "[{is_class(tensor(test(50)),c10): tensor(0.0032, grad_fn=<MulBackward0>)}]\n",
      "[{is_class(tensor(test(50)),c11): tensor(0.0034, grad_fn=<MulBackward0>)}]\n",
      "[{is_class(tensor(test(50)),c12): tensor(0.0033, grad_fn=<MulBackward0>)}]\n",
      "[{is_class(tensor(test(50)),c13): tensor(0.0035, grad_fn=<MulBackward0>)}]\n",
      "[{is_class(tensor(test(50)),c14): tensor(0.0033, grad_fn=<MulBackward0>)}]\n",
      "\n",
      "[{is_class(tensor(test(50)),c0): tensor(0.7095, grad_fn=<MulBackward0>)}]\n",
      "[{is_class(tensor(test(50)),c1): tensor(0.0590, grad_fn=<MulBackward0>)}]\n",
      "[{is_class(tensor(test(50)),c2): tensor(0.0032, grad_fn=<MulBackward0>)}]\n",
      "[{is_class(tensor(test(50)),c3): tensor(0.0034, grad_fn=<MulBackward0>)}]\n",
      "[{is_class(tensor(test(50)),c4): tensor(0.0031, grad_fn=<MulBackward0>)}]\n",
      "[{is_class(tensor(test(50)),c5): tensor(0.0031, grad_fn=<MulBackward0>)}]\n",
      "[{is_class(tensor(test(50)),c6): tensor(0.0031, grad_fn=<MulBackward0>)}]\n",
      "[{is_class(tensor(test(50)),c7): tensor(0.0036, grad_fn=<MulBackward0>)}]\n",
      "[{is_class(tensor(test(50)),c8): tensor(0.0032, grad_fn=<MulBackward0>)}]\n",
      "[{is_class(tensor(test(50)),c9): tensor(0.0034, grad_fn=<MulBackward0>)}]\n",
      "[{is_class(tensor(test(50)),c10): tensor(0.0032, grad_fn=<MulBackward0>)}]\n",
      "[{is_class(tensor(test(50)),c11): tensor(0.0034, grad_fn=<MulBackward0>)}]\n",
      "[{is_class(tensor(test(50)),c12): tensor(0.0033, grad_fn=<MulBackward0>)}]\n",
      "[{is_class(tensor(test(50)),c13): tensor(0.0035, grad_fn=<MulBackward0>)}]\n",
      "[{is_class(tensor(test(50)),c14): tensor(0.0033, grad_fn=<MulBackward0>)}]\n",
      "[{has_proto(tensor(test(50)),p10): tensor(0.0045, grad_fn=<SelectBackward0>)}]\n",
      "[{connected(p10,14): 0.0}]\n",
      "[{\\+connected(p10,14): 1.0}]\n"
     ]
    }
   ],
   "source": [
    "ts = 50\n",
    "c = 'c10'\n",
    "# print(model.solve([Query(Term('excl_is_class', Term(f'ts{ts}'), Term(c)), {Term(f'ts{ts}'): Term('tensor', Term('test', Constant(ts)))})]))\n",
    "for c in range(15):\n",
    "    print(model.solve([Query(Term('excl_is_class', Term(f'ts{ts}'), Term(f'c{c}')), {Term(f'ts{ts}'): Term('tensor', Term('test', Constant(ts)))}, p=float(libras.test.get_label(ts) == c))]))\n",
    "print()\n",
    "# print(model.solve([Query(Term('is_class', Term(f'ts{ts}'), Term(c)), {Term(f'ts{ts}'): Term('tensor', Term('test', Constant(ts)))})]))\n",
    "for c in range(15):\n",
    "    print(model.solve([Query(Term('is_class', Term(f'ts{ts}'), Term(f'c{c}')), {Term(f'ts{ts}'): Term('tensor', Term('test', Constant(ts)))})]))\n",
    "print()\n",
    "for c in range(15):\n",
    "    print(model.solve([Query(Term('is_class', Term(f'ts{ts}'), Term(f'c{c}')), {Term(f'ts{ts}'): Term('tensor', Term('test', Constant(ts)))})]))\n",
    "# print(model.solve([Query(Not('not', Term('is_class', Term(f'ts{ts}'), Term('c0')), {Term(f'ts{ts}'): Term('tensor', Term('test', Constant(ts)))}))]))\n",
    "print(model.solve([Query(Term('has_proto', Term(f'ts{ts}'), Term('p10')), {Term(f'ts{ts}'): Term('tensor', Term('test', Constant(ts)))})]))\n",
    "print(model.solve([Query(Term('connected', Term(f'p10'), Term(c)))]))\n",
    "print(model.solve([Query(Not('not', Term('connected', Term(f'p10'), Term(c))))]))"
   ]
  },
  {
   "cell_type": "code",
   "execution_count": 74,
   "metadata": {},
   "outputs": [
    {
     "data": {
      "text/plain": [
       "torch.Size([2, 32, 20])"
      ]
     },
     "execution_count": 74,
     "metadata": {},
     "output_type": "execute_result"
    }
   ],
   "source": [
    "next(net.parameters()).shape"
   ]
  },
  {
   "cell_type": "code",
   "execution_count": 75,
   "metadata": {},
   "outputs": [],
   "source": [
    "# idx = 7\n",
    "# print(f'Label: {test_dataset.get_label(idx)}')\n",
    "# plt.plot(test_dataset[[idx]][0])"
   ]
  },
  {
   "cell_type": "code",
   "execution_count": 79,
   "metadata": {},
   "outputs": [
    {
     "name": "stdout",
     "output_type": "stream",
     "text": [
      "Label: 1\n",
      "[{is_class(tensor(test(3)),c0): tensor(0.0596, grad_fn=<SelectBackward0>)}]\n",
      "[{is_class(tensor(test(3)),c1): tensor(0.9075, grad_fn=<SelectBackward0>)}]\n"
     ]
    }
   ],
   "source": [
    "idx = 3\n",
    "print(f'Label: {test_dataset.get_label(idx)}')\n",
    "print(model.solve([test_queries.to_query(2*idx+0)]))\n",
    "print(model.solve([test_queries.to_query(2*idx+1)]))"
   ]
  }
 ],
 "metadata": {
  "kernelspec": {
   "display_name": "DeepProbLog kernel",
   "language": "python",
   "name": "deepproblog"
  },
  "language_info": {
   "codemirror_mode": {
    "name": "ipython",
    "version": 3
   },
   "file_extension": ".py",
   "mimetype": "text/x-python",
   "name": "python",
   "nbconvert_exporter": "python",
   "pygments_lexer": "ipython3",
   "version": "3.11.9"
  }
 },
 "nbformat": 4,
 "nbformat_minor": 2
}
